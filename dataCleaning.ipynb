{
  "nbformat": 4,
  "nbformat_minor": 0,
  "metadata": {
    "colab": {
      "name": "ALGORITHMS_Project2_YellowTeam.ipynb",
      "provenance": [],
      "collapsed_sections": []
    },
    "kernelspec": {
      "name": "python3",
      "display_name": "Python 3"
    }
  },
  "cells": [
    {
      "cell_type": "markdown",
      "metadata": {
        "id": "ZPJtpeHaVbdl"
      },
      "source": [
        "# SETUP\n",
        "1. Setting up the Google Drive connection\n",
        "2. Accessing Google Drive\n",
        "3. Importing the files"
      ]
    },
    {
      "cell_type": "code",
      "metadata": {
        "id": "Phh77sewUSwN",
        "colab": {
          "base_uri": "https://localhost:8080/"
        },
        "outputId": "c000bb69-3081-45bb-c8c0-52027341d74b"
      },
      "source": [
        "\n",
        "#IMPORTING MODULES\n",
        "import pandas as pd\n",
        "import numpy as np\n",
        "import networkx as nx\n",
        "from google.colab import drive\n",
        "import matplotlib.pyplot as plt\n",
        "import missingno as msno\n",
        "\n",
        "\n",
        "#Mounting the drive\n",
        "drive.mount('/content/drive')\n"
      ],
      "execution_count": 1,
      "outputs": [
        {
          "output_type": "stream",
          "text": [
            "Mounted at /content/drive\n"
          ],
          "name": "stdout"
        }
      ]
    },
    {
      "cell_type": "code",
      "metadata": {
        "id": "uQtR9GxaYC92"
      },
      "source": [
        "\n",
        "#Importing the files\n",
        "\n",
        "pathToFile = \"/content/drive/MyDrive/algorithmsProject2\"\n",
        "\n",
        "# PLANES\n",
        "planes = pd.read_csv(f\"{pathToFile}/planes.dat.txt\", header = None)\n",
        "planes.columns = [\"Name\",\"IATA\",\"ICAO\"]\n",
        "\n",
        "# ROUTES\n",
        "routes = pd.read_csv(f\"{pathToFile}/routes.dat.txt\", header = None)\n",
        "routes.columns = [\"Airline\", \"AirlineID\", \"Source\", \"SourceID\", \"Destination\", \"DestinationID\", \"Codeshare\", \"Stops\", \"Equipment\"]\n"
      ],
      "execution_count": 4,
      "outputs": []
    },
    {
      "cell_type": "code",
      "metadata": {
        "colab": {
          "base_uri": "https://localhost:8080/",
          "height": 337
        },
        "id": "JKWyr3275Nvs",
        "outputId": "46c2eec6-e657-4158-b692-be15c42672e4"
      },
      "source": [
        "\n",
        "# EXAMINING THE DATA FRAMES\n",
        "\n",
        "##### PLANES #####\n",
        "# Name: The name of the plane\n",
        "# ICAO: Three digit alphabetical/digit code distinguishing the aircraft\n",
        "# IATA: 4+ digit code distinguishing the aircraft\n",
        "# Because this data file does not have capacities, it does not seem particularly\n",
        "# useful for what we are tring to do. It may be best to look for an outside data\n",
        "# source. \n",
        "\n",
        "print(planes.head())\n",
        "print(planes.shape)\n",
        "\n",
        "planes.head()\n"
      ],
      "execution_count": 7,
      "outputs": [
        {
          "output_type": "stream",
          "text": [
            "                                           Name IATA  ICAO\n",
            "0                       Aerospatiale (Nord) 262  ND2  N262\n",
            "1  Aerospatiale (Sud Aviation) Se.210 Caravelle  CRV  S210\n",
            "2                  Aerospatiale SN.601 Corvette  NDC  S601\n",
            "3                Aerospatiale/Alenia ATR 42-300  AT4  AT43\n",
            "4                Aerospatiale/Alenia ATR 42-500  AT5  AT45\n",
            "(246, 3)\n"
          ],
          "name": "stdout"
        },
        {
          "output_type": "execute_result",
          "data": {
            "text/html": [
              "<div>\n",
              "<style scoped>\n",
              "    .dataframe tbody tr th:only-of-type {\n",
              "        vertical-align: middle;\n",
              "    }\n",
              "\n",
              "    .dataframe tbody tr th {\n",
              "        vertical-align: top;\n",
              "    }\n",
              "\n",
              "    .dataframe thead th {\n",
              "        text-align: right;\n",
              "    }\n",
              "</style>\n",
              "<table border=\"1\" class=\"dataframe\">\n",
              "  <thead>\n",
              "    <tr style=\"text-align: right;\">\n",
              "      <th></th>\n",
              "      <th>Name</th>\n",
              "      <th>IATA</th>\n",
              "      <th>ICAO</th>\n",
              "    </tr>\n",
              "  </thead>\n",
              "  <tbody>\n",
              "    <tr>\n",
              "      <th>0</th>\n",
              "      <td>Aerospatiale (Nord) 262</td>\n",
              "      <td>ND2</td>\n",
              "      <td>N262</td>\n",
              "    </tr>\n",
              "    <tr>\n",
              "      <th>1</th>\n",
              "      <td>Aerospatiale (Sud Aviation) Se.210 Caravelle</td>\n",
              "      <td>CRV</td>\n",
              "      <td>S210</td>\n",
              "    </tr>\n",
              "    <tr>\n",
              "      <th>2</th>\n",
              "      <td>Aerospatiale SN.601 Corvette</td>\n",
              "      <td>NDC</td>\n",
              "      <td>S601</td>\n",
              "    </tr>\n",
              "    <tr>\n",
              "      <th>3</th>\n",
              "      <td>Aerospatiale/Alenia ATR 42-300</td>\n",
              "      <td>AT4</td>\n",
              "      <td>AT43</td>\n",
              "    </tr>\n",
              "    <tr>\n",
              "      <th>4</th>\n",
              "      <td>Aerospatiale/Alenia ATR 42-500</td>\n",
              "      <td>AT5</td>\n",
              "      <td>AT45</td>\n",
              "    </tr>\n",
              "  </tbody>\n",
              "</table>\n",
              "</div>"
            ],
            "text/plain": [
              "                                           Name IATA  ICAO\n",
              "0                       Aerospatiale (Nord) 262  ND2  N262\n",
              "1  Aerospatiale (Sud Aviation) Se.210 Caravelle  CRV  S210\n",
              "2                  Aerospatiale SN.601 Corvette  NDC  S601\n",
              "3                Aerospatiale/Alenia ATR 42-300  AT4  AT43\n",
              "4                Aerospatiale/Alenia ATR 42-500  AT5  AT45"
            ]
          },
          "metadata": {
            "tags": []
          },
          "execution_count": 7
        }
      ]
    },
    {
      "cell_type": "code",
      "metadata": {
        "colab": {
          "base_uri": "https://localhost:8080/",
          "height": 625
        },
        "id": "A9zQJkRqmKcs",
        "outputId": "09ee1b3d-8136-450c-dbb5-3056ca0dbf8c"
      },
      "source": [
        "\n",
        "###### ROUTES ######\n",
        "# Equipment:  the plane used on the flight, corresponds to ICAO codes\n",
        "# Source: The IATA code for the airport, will be used in the graph\n",
        "# Destination: The IATA code for the destination airport, will be used in the graph\n",
        "\n",
        "print(routes.head(n=100))\n",
        "routes.shape\n",
        "routes.head(10)\n"
      ],
      "execution_count": 6,
      "outputs": [
        {
          "output_type": "stream",
          "text": [
            "   Airline AirlineID Source  ... Codeshare Stops    Equipment\n",
            "0       2B       410    AER  ...       NaN     0          CR2\n",
            "1       2B       410    ASF  ...       NaN     0          CR2\n",
            "2       2B       410    ASF  ...       NaN     0          CR2\n",
            "3       2B       410    CEK  ...       NaN     0          CR2\n",
            "4       2B       410    CEK  ...       NaN     0          CR2\n",
            "..     ...       ...    ...  ...       ...   ...          ...\n",
            "95      2J       470    OUA  ...       NaN     0  E70 CRJ M87\n",
            "96      2J       470    OUA  ...       NaN     0          CRJ\n",
            "97      2J       470    OUA  ...       NaN     0      M87 CRJ\n",
            "98      2J       470    OUA  ...       NaN     0          CRJ\n",
            "99      2J       470    OUA  ...       NaN     0          M87\n",
            "\n",
            "[100 rows x 9 columns]\n"
          ],
          "name": "stdout"
        },
        {
          "output_type": "execute_result",
          "data": {
            "text/html": [
              "<div>\n",
              "<style scoped>\n",
              "    .dataframe tbody tr th:only-of-type {\n",
              "        vertical-align: middle;\n",
              "    }\n",
              "\n",
              "    .dataframe tbody tr th {\n",
              "        vertical-align: top;\n",
              "    }\n",
              "\n",
              "    .dataframe thead th {\n",
              "        text-align: right;\n",
              "    }\n",
              "</style>\n",
              "<table border=\"1\" class=\"dataframe\">\n",
              "  <thead>\n",
              "    <tr style=\"text-align: right;\">\n",
              "      <th></th>\n",
              "      <th>Airline</th>\n",
              "      <th>AirlineID</th>\n",
              "      <th>Source</th>\n",
              "      <th>SourceID</th>\n",
              "      <th>Destination</th>\n",
              "      <th>DestinationID</th>\n",
              "      <th>Codeshare</th>\n",
              "      <th>Stops</th>\n",
              "      <th>Equipment</th>\n",
              "    </tr>\n",
              "  </thead>\n",
              "  <tbody>\n",
              "    <tr>\n",
              "      <th>0</th>\n",
              "      <td>2B</td>\n",
              "      <td>410</td>\n",
              "      <td>AER</td>\n",
              "      <td>2965</td>\n",
              "      <td>KZN</td>\n",
              "      <td>2990</td>\n",
              "      <td>NaN</td>\n",
              "      <td>0</td>\n",
              "      <td>CR2</td>\n",
              "    </tr>\n",
              "    <tr>\n",
              "      <th>1</th>\n",
              "      <td>2B</td>\n",
              "      <td>410</td>\n",
              "      <td>ASF</td>\n",
              "      <td>2966</td>\n",
              "      <td>KZN</td>\n",
              "      <td>2990</td>\n",
              "      <td>NaN</td>\n",
              "      <td>0</td>\n",
              "      <td>CR2</td>\n",
              "    </tr>\n",
              "    <tr>\n",
              "      <th>2</th>\n",
              "      <td>2B</td>\n",
              "      <td>410</td>\n",
              "      <td>ASF</td>\n",
              "      <td>2966</td>\n",
              "      <td>MRV</td>\n",
              "      <td>2962</td>\n",
              "      <td>NaN</td>\n",
              "      <td>0</td>\n",
              "      <td>CR2</td>\n",
              "    </tr>\n",
              "    <tr>\n",
              "      <th>3</th>\n",
              "      <td>2B</td>\n",
              "      <td>410</td>\n",
              "      <td>CEK</td>\n",
              "      <td>2968</td>\n",
              "      <td>KZN</td>\n",
              "      <td>2990</td>\n",
              "      <td>NaN</td>\n",
              "      <td>0</td>\n",
              "      <td>CR2</td>\n",
              "    </tr>\n",
              "    <tr>\n",
              "      <th>4</th>\n",
              "      <td>2B</td>\n",
              "      <td>410</td>\n",
              "      <td>CEK</td>\n",
              "      <td>2968</td>\n",
              "      <td>OVB</td>\n",
              "      <td>4078</td>\n",
              "      <td>NaN</td>\n",
              "      <td>0</td>\n",
              "      <td>CR2</td>\n",
              "    </tr>\n",
              "    <tr>\n",
              "      <th>5</th>\n",
              "      <td>2B</td>\n",
              "      <td>410</td>\n",
              "      <td>DME</td>\n",
              "      <td>4029</td>\n",
              "      <td>KZN</td>\n",
              "      <td>2990</td>\n",
              "      <td>NaN</td>\n",
              "      <td>0</td>\n",
              "      <td>CR2</td>\n",
              "    </tr>\n",
              "    <tr>\n",
              "      <th>6</th>\n",
              "      <td>2B</td>\n",
              "      <td>410</td>\n",
              "      <td>DME</td>\n",
              "      <td>4029</td>\n",
              "      <td>NBC</td>\n",
              "      <td>6969</td>\n",
              "      <td>NaN</td>\n",
              "      <td>0</td>\n",
              "      <td>CR2</td>\n",
              "    </tr>\n",
              "    <tr>\n",
              "      <th>7</th>\n",
              "      <td>2B</td>\n",
              "      <td>410</td>\n",
              "      <td>DME</td>\n",
              "      <td>4029</td>\n",
              "      <td>TGK</td>\n",
              "      <td>\\N</td>\n",
              "      <td>NaN</td>\n",
              "      <td>0</td>\n",
              "      <td>CR2</td>\n",
              "    </tr>\n",
              "    <tr>\n",
              "      <th>8</th>\n",
              "      <td>2B</td>\n",
              "      <td>410</td>\n",
              "      <td>DME</td>\n",
              "      <td>4029</td>\n",
              "      <td>UUA</td>\n",
              "      <td>6160</td>\n",
              "      <td>NaN</td>\n",
              "      <td>0</td>\n",
              "      <td>CR2</td>\n",
              "    </tr>\n",
              "    <tr>\n",
              "      <th>9</th>\n",
              "      <td>2B</td>\n",
              "      <td>410</td>\n",
              "      <td>EGO</td>\n",
              "      <td>6156</td>\n",
              "      <td>KGD</td>\n",
              "      <td>2952</td>\n",
              "      <td>NaN</td>\n",
              "      <td>0</td>\n",
              "      <td>CR2</td>\n",
              "    </tr>\n",
              "  </tbody>\n",
              "</table>\n",
              "</div>"
            ],
            "text/plain": [
              "  Airline AirlineID Source SourceID  ... DestinationID Codeshare Stops  Equipment\n",
              "0      2B       410    AER     2965  ...          2990       NaN     0        CR2\n",
              "1      2B       410    ASF     2966  ...          2990       NaN     0        CR2\n",
              "2      2B       410    ASF     2966  ...          2962       NaN     0        CR2\n",
              "3      2B       410    CEK     2968  ...          2990       NaN     0        CR2\n",
              "4      2B       410    CEK     2968  ...          4078       NaN     0        CR2\n",
              "5      2B       410    DME     4029  ...          2990       NaN     0        CR2\n",
              "6      2B       410    DME     4029  ...          6969       NaN     0        CR2\n",
              "7      2B       410    DME     4029  ...            \\N       NaN     0        CR2\n",
              "8      2B       410    DME     4029  ...          6160       NaN     0        CR2\n",
              "9      2B       410    EGO     6156  ...          2952       NaN     0        CR2\n",
              "\n",
              "[10 rows x 9 columns]"
            ]
          },
          "metadata": {
            "tags": []
          },
          "execution_count": 6
        }
      ]
    },
    {
      "cell_type": "markdown",
      "metadata": {
        "id": "tWX43WFjZaqK"
      },
      "source": [
        "\n",
        "Data Cleaning and Exploration\n"
      ]
    },
    {
      "cell_type": "code",
      "metadata": {
        "colab": {
          "base_uri": "https://localhost:8080/",
          "height": 49
        },
        "id": "HYjNgunRqsj2",
        "outputId": "9ce742d7-9bcd-4b1c-b01a-af88c5578e56"
      },
      "source": [
        "# EXPLORATORY QUERIES AND CLEANING\n",
        "\n",
        "# Q: How are NA's coded in the data\n",
        "# A: It appears to be a mix of NaN and \\N; these we be handled in cleaning\n",
        "\n",
        "# Q: Are there non-direct flights in these data? \n",
        "# A: Yes\n",
        "routes[routes[\"Stops\"]>0]\n",
        "\n",
        "# Q: Do any of them go from NY to San Francisco? \n",
        "# A: No, I manually inspected each of the destination airports to confirm this, \n",
        "#### so we can remove them\n",
        "\n",
        "routes = routes[routes.Stops != 1]\n",
        "\n",
        "# Q: Are they all gone?\n",
        "# A: Yep!\n",
        "\n",
        "routes[routes[\"Stops\"]>0]\n"
      ],
      "execution_count": null,
      "outputs": [
        {
          "output_type": "execute_result",
          "data": {
            "text/html": [
              "<div>\n",
              "<style scoped>\n",
              "    .dataframe tbody tr th:only-of-type {\n",
              "        vertical-align: middle;\n",
              "    }\n",
              "\n",
              "    .dataframe tbody tr th {\n",
              "        vertical-align: top;\n",
              "    }\n",
              "\n",
              "    .dataframe thead th {\n",
              "        text-align: right;\n",
              "    }\n",
              "</style>\n",
              "<table border=\"1\" class=\"dataframe\">\n",
              "  <thead>\n",
              "    <tr style=\"text-align: right;\">\n",
              "      <th></th>\n",
              "      <th>Airline</th>\n",
              "      <th>AirlineID</th>\n",
              "      <th>Source</th>\n",
              "      <th>SourceID</th>\n",
              "      <th>Destination</th>\n",
              "      <th>DestinationID</th>\n",
              "      <th>Codeshare</th>\n",
              "      <th>Stops</th>\n",
              "      <th>Equipment</th>\n",
              "    </tr>\n",
              "  </thead>\n",
              "  <tbody>\n",
              "  </tbody>\n",
              "</table>\n",
              "</div>"
            ],
            "text/plain": [
              "Empty DataFrame\n",
              "Columns: [Airline, AirlineID, Source, SourceID, Destination, DestinationID, Codeshare, Stops, Equipment]\n",
              "Index: []"
            ]
          },
          "metadata": {
            "tags": []
          },
          "execution_count": 5
        }
      ]
    },
    {
      "cell_type": "code",
      "metadata": {
        "id": "qqB-Q9_Wrbjc"
      },
      "source": [
        "# Q: Can we split routes by the number of planes that fly them?\n",
        "# A: Yes\n",
        "\n",
        "# Creating the temporary dataframe to join later\n",
        "split = routes['Equipment'].str.split(' ').apply(pd.Series,1).stack()\n",
        "split.index = split.index.droplevel(-1)\n",
        "split.name = 'Equipment'\n",
        "\n",
        "#Handling NA's \n",
        "split.replace('', np.nan, inplace=True)\n",
        "split.dropna(inplace=True)\n",
        "\n",
        "#Deleting the deprecated equipment column\n",
        "del routes['Equipment']\n",
        "\n",
        "#Joining \n",
        "routes = routes.join(split)\n"
      ],
      "execution_count": null,
      "outputs": []
    },
    {
      "cell_type": "code",
      "metadata": {
        "id": "nmo_AohcZaU5",
        "colab": {
          "base_uri": "https://localhost:8080/",
          "height": 363
        },
        "outputId": "85811515-9377-484b-b06d-a97e5d6b9e14"
      },
      "source": [
        "\n",
        "# CHANGING THEIR CODED NULL VALUES TO NUMPY NaNs\n",
        "\n",
        "routes = routes.replace('NaN', np.nan)\n",
        "routes = routes.replace('\\\\N', np.nan)\n",
        "routes.head(10)\n"
      ],
      "execution_count": null,
      "outputs": [
        {
          "output_type": "execute_result",
          "data": {
            "text/html": [
              "<div>\n",
              "<style scoped>\n",
              "    .dataframe tbody tr th:only-of-type {\n",
              "        vertical-align: middle;\n",
              "    }\n",
              "\n",
              "    .dataframe tbody tr th {\n",
              "        vertical-align: top;\n",
              "    }\n",
              "\n",
              "    .dataframe thead th {\n",
              "        text-align: right;\n",
              "    }\n",
              "</style>\n",
              "<table border=\"1\" class=\"dataframe\">\n",
              "  <thead>\n",
              "    <tr style=\"text-align: right;\">\n",
              "      <th></th>\n",
              "      <th>Airline</th>\n",
              "      <th>AirlineID</th>\n",
              "      <th>Source</th>\n",
              "      <th>SourceID</th>\n",
              "      <th>Destination</th>\n",
              "      <th>DestinationID</th>\n",
              "      <th>Codeshare</th>\n",
              "      <th>Stops</th>\n",
              "      <th>Equipment</th>\n",
              "    </tr>\n",
              "  </thead>\n",
              "  <tbody>\n",
              "    <tr>\n",
              "      <th>0</th>\n",
              "      <td>2B</td>\n",
              "      <td>410</td>\n",
              "      <td>AER</td>\n",
              "      <td>2965</td>\n",
              "      <td>KZN</td>\n",
              "      <td>2990</td>\n",
              "      <td>NaN</td>\n",
              "      <td>0</td>\n",
              "      <td>CR2</td>\n",
              "    </tr>\n",
              "    <tr>\n",
              "      <th>1</th>\n",
              "      <td>2B</td>\n",
              "      <td>410</td>\n",
              "      <td>ASF</td>\n",
              "      <td>2966</td>\n",
              "      <td>KZN</td>\n",
              "      <td>2990</td>\n",
              "      <td>NaN</td>\n",
              "      <td>0</td>\n",
              "      <td>CR2</td>\n",
              "    </tr>\n",
              "    <tr>\n",
              "      <th>2</th>\n",
              "      <td>2B</td>\n",
              "      <td>410</td>\n",
              "      <td>ASF</td>\n",
              "      <td>2966</td>\n",
              "      <td>MRV</td>\n",
              "      <td>2962</td>\n",
              "      <td>NaN</td>\n",
              "      <td>0</td>\n",
              "      <td>CR2</td>\n",
              "    </tr>\n",
              "    <tr>\n",
              "      <th>3</th>\n",
              "      <td>2B</td>\n",
              "      <td>410</td>\n",
              "      <td>CEK</td>\n",
              "      <td>2968</td>\n",
              "      <td>KZN</td>\n",
              "      <td>2990</td>\n",
              "      <td>NaN</td>\n",
              "      <td>0</td>\n",
              "      <td>CR2</td>\n",
              "    </tr>\n",
              "    <tr>\n",
              "      <th>4</th>\n",
              "      <td>2B</td>\n",
              "      <td>410</td>\n",
              "      <td>CEK</td>\n",
              "      <td>2968</td>\n",
              "      <td>OVB</td>\n",
              "      <td>4078</td>\n",
              "      <td>NaN</td>\n",
              "      <td>0</td>\n",
              "      <td>CR2</td>\n",
              "    </tr>\n",
              "    <tr>\n",
              "      <th>5</th>\n",
              "      <td>2B</td>\n",
              "      <td>410</td>\n",
              "      <td>DME</td>\n",
              "      <td>4029</td>\n",
              "      <td>KZN</td>\n",
              "      <td>2990</td>\n",
              "      <td>NaN</td>\n",
              "      <td>0</td>\n",
              "      <td>CR2</td>\n",
              "    </tr>\n",
              "    <tr>\n",
              "      <th>6</th>\n",
              "      <td>2B</td>\n",
              "      <td>410</td>\n",
              "      <td>DME</td>\n",
              "      <td>4029</td>\n",
              "      <td>NBC</td>\n",
              "      <td>6969</td>\n",
              "      <td>NaN</td>\n",
              "      <td>0</td>\n",
              "      <td>CR2</td>\n",
              "    </tr>\n",
              "    <tr>\n",
              "      <th>7</th>\n",
              "      <td>2B</td>\n",
              "      <td>410</td>\n",
              "      <td>DME</td>\n",
              "      <td>4029</td>\n",
              "      <td>TGK</td>\n",
              "      <td>NaN</td>\n",
              "      <td>NaN</td>\n",
              "      <td>0</td>\n",
              "      <td>CR2</td>\n",
              "    </tr>\n",
              "    <tr>\n",
              "      <th>8</th>\n",
              "      <td>2B</td>\n",
              "      <td>410</td>\n",
              "      <td>DME</td>\n",
              "      <td>4029</td>\n",
              "      <td>UUA</td>\n",
              "      <td>6160</td>\n",
              "      <td>NaN</td>\n",
              "      <td>0</td>\n",
              "      <td>CR2</td>\n",
              "    </tr>\n",
              "    <tr>\n",
              "      <th>9</th>\n",
              "      <td>2B</td>\n",
              "      <td>410</td>\n",
              "      <td>EGO</td>\n",
              "      <td>6156</td>\n",
              "      <td>KGD</td>\n",
              "      <td>2952</td>\n",
              "      <td>NaN</td>\n",
              "      <td>0</td>\n",
              "      <td>CR2</td>\n",
              "    </tr>\n",
              "  </tbody>\n",
              "</table>\n",
              "</div>"
            ],
            "text/plain": [
              "  Airline AirlineID Source SourceID  ... DestinationID Codeshare Stops  Equipment\n",
              "0      2B       410    AER     2965  ...          2990       NaN     0        CR2\n",
              "1      2B       410    ASF     2966  ...          2990       NaN     0        CR2\n",
              "2      2B       410    ASF     2966  ...          2962       NaN     0        CR2\n",
              "3      2B       410    CEK     2968  ...          2990       NaN     0        CR2\n",
              "4      2B       410    CEK     2968  ...          4078       NaN     0        CR2\n",
              "5      2B       410    DME     4029  ...          2990       NaN     0        CR2\n",
              "6      2B       410    DME     4029  ...          6969       NaN     0        CR2\n",
              "7      2B       410    DME     4029  ...           NaN       NaN     0        CR2\n",
              "8      2B       410    DME     4029  ...          6160       NaN     0        CR2\n",
              "9      2B       410    EGO     6156  ...          2952       NaN     0        CR2\n",
              "\n",
              "[10 rows x 9 columns]"
            ]
          },
          "metadata": {
            "tags": []
          },
          "execution_count": 7
        }
      ]
    },
    {
      "cell_type": "code",
      "metadata": {
        "colab": {
          "base_uri": "https://localhost:8080/",
          "height": 741
        },
        "id": "WjxflMWP5vwX",
        "outputId": "4061a2a0-7f9b-4217-bdae-9117dfa93455"
      },
      "source": [
        "\n",
        "# CHECKING TO SEE THE NULL CONTENT OF THE ROUTES\n",
        "\n",
        "msno.bar(routes) \n"
      ],
      "execution_count": null,
      "outputs": [
        {
          "output_type": "execute_result",
          "data": {
            "text/plain": [
              "<matplotlib.axes._subplots.AxesSubplot at 0x7eff75a872b0>"
            ]
          },
          "metadata": {
            "tags": []
          },
          "execution_count": 8
        },
        {
          "output_type": "display_data",
          "data": {
            "image/png": "[encoded data removed]",
            "text/plain": [
              "<Figure size 1728x720 with 3 Axes>"
            ]
          },
          "metadata": {
            "tags": [],
            "needs_background": "light"
          }
        }
      ]
    },
    {
      "cell_type": "markdown",
      "metadata": {
        "id": "t4be64vfEXMA"
      },
      "source": [
        "\n",
        "Joining Routes + Capacity"
      ]
    },
    {
      "cell_type": "code",
      "metadata": {
        "id": "oqy4fv52EaoO",
        "colab": {
          "base_uri": "https://localhost:8080/",
          "height": 363
        },
        "outputId": "a58c06ad-ea77-427b-d8f4-3e438916e3e6"
      },
      "source": [
        "##############################\n",
        "########## CAPACITY ##########\n",
        "##############################\n",
        "\n",
        "##### Capacity = NaN for some planes, this is because they are not passenger planes but, in fact, cargo planes\n",
        "##### which, unless someone is stowing away in the cargo hold, do not carry people. \n",
        "\n",
        "# READING IN THE CSV\n",
        "capacity = pd.read_csv(f\"{pathToFile}/capacity.txt\", header = None, delimiter= ';')\n",
        "capacity.columns = [\"Airplane\",\"ICAO\",\"Equipment\", \"Capacity\", \"Country\"]\n",
        "\n",
        "# HANDLING NA'S \n",
        "capacity = capacity.replace('NaN', np.nan)\n",
        "capacity = capacity.replace('\\\\N', np.nan)\n",
        "\n",
        "# CHECKING OUT THE DATA\n",
        "# capacity[['Equipment', 'Capacity']]\n",
        "\n",
        "# No duplicated equipment codes\n",
        "capacity[capacity.duplicated(subset='Equipment')]\n",
        "\n",
        "\n",
        "\n",
        "# LIMITING THE DATASET TO WHAT WE NEED\n",
        "\n",
        "flight_capacity = capacity[['Equipment', 'Capacity']]\n",
        "\n",
        "capacity.head(10)\n"
      ],
      "execution_count": null,
      "outputs": [
        {
          "output_type": "execute_result",
          "data": {
            "text/html": [
              "<div>\n",
              "<style scoped>\n",
              "    .dataframe tbody tr th:only-of-type {\n",
              "        vertical-align: middle;\n",
              "    }\n",
              "\n",
              "    .dataframe tbody tr th {\n",
              "        vertical-align: top;\n",
              "    }\n",
              "\n",
              "    .dataframe thead th {\n",
              "        text-align: right;\n",
              "    }\n",
              "</style>\n",
              "<table border=\"1\" class=\"dataframe\">\n",
              "  <thead>\n",
              "    <tr style=\"text-align: right;\">\n",
              "      <th></th>\n",
              "      <th>Airplane</th>\n",
              "      <th>ICAO</th>\n",
              "      <th>Equipment</th>\n",
              "      <th>Capacity</th>\n",
              "      <th>Country</th>\n",
              "    </tr>\n",
              "  </thead>\n",
              "  <tbody>\n",
              "    <tr>\n",
              "      <th>0</th>\n",
              "      <td>Aerospatiale/Alenia ATR 42-300 / 320</td>\n",
              "      <td>AT43</td>\n",
              "      <td>AT4</td>\n",
              "      <td>50</td>\n",
              "      <td>France</td>\n",
              "    </tr>\n",
              "    <tr>\n",
              "      <th>1</th>\n",
              "      <td>Aerospatiale/Alenia ATR 42-500</td>\n",
              "      <td>AT45</td>\n",
              "      <td>AT5</td>\n",
              "      <td>50</td>\n",
              "      <td>France</td>\n",
              "    </tr>\n",
              "    <tr>\n",
              "      <th>2</th>\n",
              "      <td>Aerospatiale/Alenia ATR 42/ ATR 72</td>\n",
              "      <td>NaN</td>\n",
              "      <td>ATR</td>\n",
              "      <td>74</td>\n",
              "      <td>France</td>\n",
              "    </tr>\n",
              "    <tr>\n",
              "      <th>3</th>\n",
              "      <td>Aerospatiale/Alenia ATR 72</td>\n",
              "      <td>AT72</td>\n",
              "      <td>AT7</td>\n",
              "      <td>74</td>\n",
              "      <td>France</td>\n",
              "    </tr>\n",
              "    <tr>\n",
              "      <th>4</th>\n",
              "      <td>Aerospatiale/BAC Concorde</td>\n",
              "      <td>CONC</td>\n",
              "      <td>SSC</td>\n",
              "      <td>128</td>\n",
              "      <td>France</td>\n",
              "    </tr>\n",
              "    <tr>\n",
              "      <th>5</th>\n",
              "      <td>Airbus A300 pax</td>\n",
              "      <td>A30B</td>\n",
              "      <td>AB3</td>\n",
              "      <td>200</td>\n",
              "      <td>European consortium</td>\n",
              "    </tr>\n",
              "    <tr>\n",
              "      <th>6</th>\n",
              "      <td>Airbus A300-600 pax</td>\n",
              "      <td>A306</td>\n",
              "      <td>AB6</td>\n",
              "      <td>266</td>\n",
              "      <td>European consortium</td>\n",
              "    </tr>\n",
              "    <tr>\n",
              "      <th>7</th>\n",
              "      <td>Airbus A310 Freighter</td>\n",
              "      <td>A310</td>\n",
              "      <td>31F</td>\n",
              "      <td>NaN</td>\n",
              "      <td>European consortium</td>\n",
              "    </tr>\n",
              "    <tr>\n",
              "      <th>8</th>\n",
              "      <td>Airbus A310 all pax models</td>\n",
              "      <td>A310</td>\n",
              "      <td>310</td>\n",
              "      <td>198</td>\n",
              "      <td>European consortium</td>\n",
              "    </tr>\n",
              "    <tr>\n",
              "      <th>9</th>\n",
              "      <td>Airbus A310-200 Freighter</td>\n",
              "      <td>A310</td>\n",
              "      <td>31X</td>\n",
              "      <td>NaN</td>\n",
              "      <td>European consortium</td>\n",
              "    </tr>\n",
              "  </tbody>\n",
              "</table>\n",
              "</div>"
            ],
            "text/plain": [
              "                               Airplane  ICAO  ... Capacity              Country\n",
              "0  Aerospatiale/Alenia ATR 42-300 / 320  AT43  ...       50               France\n",
              "1        Aerospatiale/Alenia ATR 42-500  AT45  ...       50               France\n",
              "2    Aerospatiale/Alenia ATR 42/ ATR 72   NaN  ...       74               France\n",
              "3            Aerospatiale/Alenia ATR 72  AT72  ...       74               France\n",
              "4             Aerospatiale/BAC Concorde  CONC  ...      128               France\n",
              "5                       Airbus A300 pax  A30B  ...      200  European consortium\n",
              "6                   Airbus A300-600 pax  A306  ...      266  European consortium\n",
              "7                 Airbus A310 Freighter  A310  ...      NaN  European consortium\n",
              "8            Airbus A310 all pax models  A310  ...      198  European consortium\n",
              "9             Airbus A310-200 Freighter  A310  ...      NaN  European consortium\n",
              "\n",
              "[10 rows x 5 columns]"
            ]
          },
          "metadata": {
            "tags": []
          },
          "execution_count": 10
        }
      ]
    },
    {
      "cell_type": "code",
      "metadata": {
        "colab": {
          "base_uri": "https://localhost:8080/"
        },
        "id": "KFeut_aMIbbC",
        "outputId": "a69cf090-e48b-476c-8a0f-bcd510795820"
      },
      "source": [
        "\n",
        "#  CHECKING FOR NA's\n",
        "## There are none\n",
        "print(flight_capacity['Equipment'].isnull().sum())\n",
        "print(flight_capacity['Equipment'].isnull().sum())\n"
      ],
      "execution_count": null,
      "outputs": [
        {
          "output_type": "stream",
          "text": [
            "0\n",
            "0\n"
          ],
          "name": "stdout"
        }
      ]
    },
    {
      "cell_type": "code",
      "metadata": {
        "id": "sDrBz9xmOY65"
      },
      "source": [
        "# DROPPING NA'S IN ROUTES \n",
        "## After looking into these flights, I found that most of them do not run any longer\n",
        "## futhermore, it is almost impossible to track back what planes fly these routes because\n",
        "## the data is from 2014. There are only 18 rows with missing plane data, which means that\n",
        "## we are not losing much information by dropping them. There is little alternatie, as, again, \n",
        "## because records for these flights are, from my research, very difficult if not impossible to locate,\n",
        "## manually imputing the data would be similarly very difficult if not impossible. \n",
        "\n",
        "routes = routes.dropna(subset=['Equipment'])\n"
      ],
      "execution_count": null,
      "outputs": []
    },
    {
      "cell_type": "code",
      "metadata": {
        "colab": {
          "base_uri": "https://localhost:8080/"
        },
        "id": "CoKnpKKQcTuk",
        "outputId": "beed7258-ed67-4301-b8e6-b777744a2d78"
      },
      "source": [
        "#CREATING THE FULL ROUTES DATASET\n",
        "full_routes = routes.merge(flight_capacity, on=\"Equipment\", how=\"left\")\n",
        "\n",
        "#Showing that no rows were lost in the join\n",
        "print(full_routes.shape)\n",
        "print(routes.shape)\n"
      ],
      "execution_count": null,
      "outputs": [
        {
          "output_type": "stream",
          "text": [
            "(93219, 10)\n",
            "(93219, 9)\n"
          ],
          "name": "stdout"
        }
      ]
    },
    {
      "cell_type": "code",
      "metadata": {
        "id": "nS_v8I5nQitF",
        "colab": {
          "base_uri": "https://localhost:8080/"
        },
        "outputId": "c2ea9778-73c7-49f2-b41e-6fd00860bbbd"
      },
      "source": [
        "\n",
        "#Looking for null capacities\n",
        "## There are nulls. \n",
        "print(full_routes['Capacity'].isnull().sum())\n",
        "\n",
        "## Let's find out where\n",
        "null_rows = full_routes[full_routes['Capacity'].isnull()]\n",
        "print(null_rows.Equipment.unique())\n",
        "\n",
        "## That's a lot of planes. \n",
        "## Plan: \n",
        "#### Step 1. Find the seating capacity of each plane\n",
        "#### Step 2. Create a dictionary of the planes and their capacities\n",
        "#### Step 3. Use fillna to impute data where na's are, this is speedy on big datasets \n",
        "\n",
        "# STEP 2.\n",
        "dict = {'A81' : 85,  'AN4' : 44, 'BNI' : 9, 'CNC' : 19, 'DHP' : 6, 'DHT' : 20, 'BET' : 1,  '73M' :161.5, \n",
        "        'SU9' : 1, 'PL2' :9, 'PAG' :9, 'YK2' :120, 'YK4' :24,  'PA2' : 9, 'CN1' : 1, 'CNA' : 1, 'BE1'  :19, 'CNT' : 14, 'MA6' : 1, \n",
        "        '77W' : 396, '772' : 368,  'CRK' : 100, '787' : 310, '32B' : 244,  '32A' : 150,  '73C' : 1, 'CRA' : 1, \n",
        "        '77L' : 317, '788' : 242,  '76W'  : 1, '74Y' : 1, '74H' :467, '73J' : 1, '73Q' : 1, '75W' : 1, 'F28' : 65, \n",
        "        '74N' : 1, 'YN7' : 52, 'IL9' : 262, 'A58' : 75,  '75T' : 1,  'BH2' : 14, 'NDE' : 5, 'BEC' : 2, 'CNJ' : 10,  \n",
        "        'J32' : 19, 'AB4' : 247, 'PA1' : 9,  'BE9' : 16, 'M1F' : 1, 'YN2' : 17, '76F' : 1,  'CN2' : 19, 'SFB' : 1, \n",
        "        '73R' : 150, '73N' : 149,  '77X' : 1, '33X' : 1,  '32C': 107}\n",
        "\n",
        "# STEP 3.\n",
        "full_routes.Capacity = full_routes.Capacity.fillna(full_routes.Equipment.map(dict))\n",
        "\n",
        "# SEEING IF IT WORKED\n",
        "print(full_routes['Capacity'].isnull().sum())\n",
        "\n",
        "# IT DID! \n",
        "# The NA count for capacity is now 0\n"
      ],
      "execution_count": null,
      "outputs": [
        {
          "output_type": "stream",
          "text": [
            "6331\n",
            "['A81' 'AN4' 'BNI' 'CNC' 'DHP' 'DHT' 'BET' '73M' 'SU9' 'PL2' 'PAG' 'YK2'\n",
            " 'YK4' 'PA2' 'CN1' 'CNA' 'BE1' 'CNT' 'MA6' '77W' '772' 'CRK' '787' '32B'\n",
            " '32A' '73C' 'CRA' '77L' '788' '76W' '74Y' '74H' '73J' '73Q' '75W' 'F28'\n",
            " '74N' 'YN7' 'IL9' 'A58' '75T' 'BH2' 'NDE' 'BEC' 'CNJ' 'J32' 'AB4' 'PA1'\n",
            " 'BE9' 'M1F' 'YN2' '76F' 'CN2' 'SFB' '73R' '73N' '77X' '33X' '32C']\n",
            "0\n"
          ],
          "name": "stdout"
        }
      ]
    },
    {
      "cell_type": "code",
      "metadata": {
        "colab": {
          "base_uri": "https://localhost:8080/"
        },
        "id": "cc8AoM44klOr",
        "outputId": "85d270ac-79bf-407e-9ae4-48cc18667cdb"
      },
      "source": [
        "# NOW TIME TO HANDLE OTHER NA's \n",
        "## The three letter codes are unique to each airport. There are nulls in DestinationID, \n",
        "## which makes Source and Destination better choices for labeling the nodes. The three\n",
        "## letter code is also more recognizable. Practically no one knows the digit ID for airports\n",
        "## but frequent flyers are bound to know the digit codes for many of these. This makes the \n",
        "## graph object more interpretable.  \n",
        "\n",
        "print(full_routes['Destination'].isnull().sum())\n",
        "print(full_routes['Source'].isnull().sum())\n"
      ],
      "execution_count": null,
      "outputs": [
        {
          "output_type": "stream",
          "text": [
            "0\n",
            "0\n"
          ],
          "name": "stdout"
        }
      ]
    },
    {
      "cell_type": "code",
      "metadata": {
        "colab": {
          "base_uri": "https://localhost:8080/",
          "height": 206
        },
        "id": "A8grxss7kqez",
        "outputId": "c39db14e-c640-4983-9d5f-a70d691e8c7f"
      },
      "source": [
        "full_routes.head(5)"
      ],
      "execution_count": null,
      "outputs": [
        {
          "output_type": "execute_result",
          "data": {
            "text/html": [
              "<div>\n",
              "<style scoped>\n",
              "    .dataframe tbody tr th:only-of-type {\n",
              "        vertical-align: middle;\n",
              "    }\n",
              "\n",
              "    .dataframe tbody tr th {\n",
              "        vertical-align: top;\n",
              "    }\n",
              "\n",
              "    .dataframe thead th {\n",
              "        text-align: right;\n",
              "    }\n",
              "</style>\n",
              "<table border=\"1\" class=\"dataframe\">\n",
              "  <thead>\n",
              "    <tr style=\"text-align: right;\">\n",
              "      <th></th>\n",
              "      <th>Airline</th>\n",
              "      <th>AirlineID</th>\n",
              "      <th>Source</th>\n",
              "      <th>SourceID</th>\n",
              "      <th>Destination</th>\n",
              "      <th>DestinationID</th>\n",
              "      <th>Codeshare</th>\n",
              "      <th>Stops</th>\n",
              "      <th>Equipment</th>\n",
              "      <th>Capacity</th>\n",
              "    </tr>\n",
              "  </thead>\n",
              "  <tbody>\n",
              "    <tr>\n",
              "      <th>0</th>\n",
              "      <td>2B</td>\n",
              "      <td>410</td>\n",
              "      <td>AER</td>\n",
              "      <td>2965</td>\n",
              "      <td>KZN</td>\n",
              "      <td>2990</td>\n",
              "      <td>NaN</td>\n",
              "      <td>0</td>\n",
              "      <td>CR2</td>\n",
              "      <td>50</td>\n",
              "    </tr>\n",
              "    <tr>\n",
              "      <th>1</th>\n",
              "      <td>2B</td>\n",
              "      <td>410</td>\n",
              "      <td>ASF</td>\n",
              "      <td>2966</td>\n",
              "      <td>KZN</td>\n",
              "      <td>2990</td>\n",
              "      <td>NaN</td>\n",
              "      <td>0</td>\n",
              "      <td>CR2</td>\n",
              "      <td>50</td>\n",
              "    </tr>\n",
              "    <tr>\n",
              "      <th>2</th>\n",
              "      <td>2B</td>\n",
              "      <td>410</td>\n",
              "      <td>ASF</td>\n",
              "      <td>2966</td>\n",
              "      <td>MRV</td>\n",
              "      <td>2962</td>\n",
              "      <td>NaN</td>\n",
              "      <td>0</td>\n",
              "      <td>CR2</td>\n",
              "      <td>50</td>\n",
              "    </tr>\n",
              "    <tr>\n",
              "      <th>3</th>\n",
              "      <td>2B</td>\n",
              "      <td>410</td>\n",
              "      <td>CEK</td>\n",
              "      <td>2968</td>\n",
              "      <td>KZN</td>\n",
              "      <td>2990</td>\n",
              "      <td>NaN</td>\n",
              "      <td>0</td>\n",
              "      <td>CR2</td>\n",
              "      <td>50</td>\n",
              "    </tr>\n",
              "    <tr>\n",
              "      <th>4</th>\n",
              "      <td>2B</td>\n",
              "      <td>410</td>\n",
              "      <td>CEK</td>\n",
              "      <td>2968</td>\n",
              "      <td>OVB</td>\n",
              "      <td>4078</td>\n",
              "      <td>NaN</td>\n",
              "      <td>0</td>\n",
              "      <td>CR2</td>\n",
              "      <td>50</td>\n",
              "    </tr>\n",
              "  </tbody>\n",
              "</table>\n",
              "</div>"
            ],
            "text/plain": [
              "  Airline AirlineID Source SourceID  ... Codeshare Stops Equipment  Capacity\n",
              "0      2B       410    AER     2965  ...       NaN     0       CR2        50\n",
              "1      2B       410    ASF     2966  ...       NaN     0       CR2        50\n",
              "2      2B       410    ASF     2966  ...       NaN     0       CR2        50\n",
              "3      2B       410    CEK     2968  ...       NaN     0       CR2        50\n",
              "4      2B       410    CEK     2968  ...       NaN     0       CR2        50\n",
              "\n",
              "[5 rows x 10 columns]"
            ]
          },
          "metadata": {
            "tags": []
          },
          "execution_count": 16
        }
      ]
    },
    {
      "cell_type": "code",
      "metadata": {
        "colab": {
          "base_uri": "https://localhost:8080/",
          "height": 363
        },
        "id": "fsCobdw0m_u5",
        "outputId": "e208fa82-1dbd-49b3-9764-d001152d83a7"
      },
      "source": [
        "# CREATING THE EDGELIST \n",
        "\n",
        "edgelist = full_routes[['Source', 'Destination', 'Capacity', 'Airline']]\n",
        "edgelist.head(10)\n"
      ],
      "execution_count": null,
      "outputs": [
        {
          "output_type": "execute_result",
          "data": {
            "text/html": [
              "<div>\n",
              "<style scoped>\n",
              "    .dataframe tbody tr th:only-of-type {\n",
              "        vertical-align: middle;\n",
              "    }\n",
              "\n",
              "    .dataframe tbody tr th {\n",
              "        vertical-align: top;\n",
              "    }\n",
              "\n",
              "    .dataframe thead th {\n",
              "        text-align: right;\n",
              "    }\n",
              "</style>\n",
              "<table border=\"1\" class=\"dataframe\">\n",
              "  <thead>\n",
              "    <tr style=\"text-align: right;\">\n",
              "      <th></th>\n",
              "      <th>Source</th>\n",
              "      <th>Destination</th>\n",
              "      <th>Capacity</th>\n",
              "      <th>Airline</th>\n",
              "    </tr>\n",
              "  </thead>\n",
              "  <tbody>\n",
              "    <tr>\n",
              "      <th>0</th>\n",
              "      <td>AER</td>\n",
              "      <td>KZN</td>\n",
              "      <td>50</td>\n",
              "      <td>2B</td>\n",
              "    </tr>\n",
              "    <tr>\n",
              "      <th>1</th>\n",
              "      <td>ASF</td>\n",
              "      <td>KZN</td>\n",
              "      <td>50</td>\n",
              "      <td>2B</td>\n",
              "    </tr>\n",
              "    <tr>\n",
              "      <th>2</th>\n",
              "      <td>ASF</td>\n",
              "      <td>MRV</td>\n",
              "      <td>50</td>\n",
              "      <td>2B</td>\n",
              "    </tr>\n",
              "    <tr>\n",
              "      <th>3</th>\n",
              "      <td>CEK</td>\n",
              "      <td>KZN</td>\n",
              "      <td>50</td>\n",
              "      <td>2B</td>\n",
              "    </tr>\n",
              "    <tr>\n",
              "      <th>4</th>\n",
              "      <td>CEK</td>\n",
              "      <td>OVB</td>\n",
              "      <td>50</td>\n",
              "      <td>2B</td>\n",
              "    </tr>\n",
              "    <tr>\n",
              "      <th>5</th>\n",
              "      <td>DME</td>\n",
              "      <td>KZN</td>\n",
              "      <td>50</td>\n",
              "      <td>2B</td>\n",
              "    </tr>\n",
              "    <tr>\n",
              "      <th>6</th>\n",
              "      <td>DME</td>\n",
              "      <td>NBC</td>\n",
              "      <td>50</td>\n",
              "      <td>2B</td>\n",
              "    </tr>\n",
              "    <tr>\n",
              "      <th>7</th>\n",
              "      <td>DME</td>\n",
              "      <td>TGK</td>\n",
              "      <td>50</td>\n",
              "      <td>2B</td>\n",
              "    </tr>\n",
              "    <tr>\n",
              "      <th>8</th>\n",
              "      <td>DME</td>\n",
              "      <td>UUA</td>\n",
              "      <td>50</td>\n",
              "      <td>2B</td>\n",
              "    </tr>\n",
              "    <tr>\n",
              "      <th>9</th>\n",
              "      <td>EGO</td>\n",
              "      <td>KGD</td>\n",
              "      <td>50</td>\n",
              "      <td>2B</td>\n",
              "    </tr>\n",
              "  </tbody>\n",
              "</table>\n",
              "</div>"
            ],
            "text/plain": [
              "  Source Destination Capacity Airline\n",
              "0    AER         KZN       50      2B\n",
              "1    ASF         KZN       50      2B\n",
              "2    ASF         MRV       50      2B\n",
              "3    CEK         KZN       50      2B\n",
              "4    CEK         OVB       50      2B\n",
              "5    DME         KZN       50      2B\n",
              "6    DME         NBC       50      2B\n",
              "7    DME         TGK       50      2B\n",
              "8    DME         UUA       50      2B\n",
              "9    EGO         KGD       50      2B"
            ]
          },
          "metadata": {
            "tags": []
          },
          "execution_count": 18
        }
      ]
    },
    {
      "cell_type": "markdown",
      "metadata": {
        "id": "pLejeSa_TIfF"
      },
      "source": [
        "# And now we create many, many CSV's "
      ]
    },
    {
      "cell_type": "code",
      "metadata": {
        "colab": {
          "base_uri": "https://localhost:8080/",
          "height": 17
        },
        "id": "OxLTUryFm5bN",
        "outputId": "c2c1c4e8-adb6-481e-ed01-431eb58030c6"
      },
      "source": [
        "from google.colab import files\n",
        "\n",
        "# SAVING FULL INFORMATION\n",
        "full_routes.to_csv('full_flights.csv') \n",
        "files.download('full_flights.csv')\n",
        "\n",
        "# SAVING THE EDGELIST\n",
        "edgelist.to_csv('flights_edgelist.csv') \n",
        "files.download('flights_edgelist.csv')\n"
      ],
      "execution_count": null,
      "outputs": [
        {
          "output_type": "display_data",
          "data": {
            "application/javascript": [
              "\n",
              "    async function download(id, filename, size) {\n",
              "      if (!google.colab.kernel.accessAllowed) {\n",
              "        return;\n",
              "      }\n",
              "      const div = document.createElement('div');\n",
              "      const label = document.createElement('label');\n",
              "      label.textContent = `Downloading \"${filename}\": `;\n",
              "      div.appendChild(label);\n",
              "      const progress = document.createElement('progress');\n",
              "      progress.max = size;\n",
              "      div.appendChild(progress);\n",
              "      document.body.appendChild(div);\n",
              "\n",
              "      const buffers = [];\n",
              "      let downloaded = 0;\n",
              "\n",
              "      const channel = await google.colab.kernel.comms.open(id);\n",
              "      // Send a message to notify the kernel that we're ready.\n",
              "      channel.send({})\n",
              "\n",
              "      for await (const message of channel.messages) {\n",
              "        // Send a message to notify the kernel that we're ready.\n",
              "        channel.send({})\n",
              "        if (message.buffers) {\n",
              "          for (const buffer of message.buffers) {\n",
              "            buffers.push(buffer);\n",
              "            downloaded += buffer.byteLength;\n",
              "            progress.value = downloaded;\n",
              "          }\n",
              "        }\n",
              "      }\n",
              "      const blob = new Blob(buffers, {type: 'application/binary'});\n",
              "      const a = document.createElement('a');\n",
              "      a.href = window.URL.createObjectURL(blob);\n",
              "      a.download = filename;\n",
              "      div.appendChild(a);\n",
              "      a.click();\n",
              "      div.remove();\n",
              "    }\n",
              "  "
            ],
            "text/plain": [
              "<IPython.core.display.Javascript object>"
            ]
          },
          "metadata": {
            "tags": []
          }
        },
        {
          "output_type": "display_data",
          "data": {
            "application/javascript": [
              "download(\"download_66e33446-4c40-4164-9704-1ddec198a007\", \"full_flights.csv\", 3945803)"
            ],
            "text/plain": [
              "<IPython.core.display.Javascript object>"
            ]
          },
          "metadata": {
            "tags": []
          }
        },
        {
          "output_type": "display_data",
          "data": {
            "application/javascript": [
              "\n",
              "    async function download(id, filename, size) {\n",
              "      if (!google.colab.kernel.accessAllowed) {\n",
              "        return;\n",
              "      }\n",
              "      const div = document.createElement('div');\n",
              "      const label = document.createElement('label');\n",
              "      label.textContent = `Downloading \"${filename}\": `;\n",
              "      div.appendChild(label);\n",
              "      const progress = document.createElement('progress');\n",
              "      progress.max = size;\n",
              "      div.appendChild(progress);\n",
              "      document.body.appendChild(div);\n",
              "\n",
              "      const buffers = [];\n",
              "      let downloaded = 0;\n",
              "\n",
              "      const channel = await google.colab.kernel.comms.open(id);\n",
              "      // Send a message to notify the kernel that we're ready.\n",
              "      channel.send({})\n",
              "\n",
              "      for await (const message of channel.messages) {\n",
              "        // Send a message to notify the kernel that we're ready.\n",
              "        channel.send({})\n",
              "        if (message.buffers) {\n",
              "          for (const buffer of message.buffers) {\n",
              "            buffers.push(buffer);\n",
              "            downloaded += buffer.byteLength;\n",
              "            progress.value = downloaded;\n",
              "          }\n",
              "        }\n",
              "      }\n",
              "      const blob = new Blob(buffers, {type: 'application/binary'});\n",
              "      const a = document.createElement('a');\n",
              "      a.href = window.URL.createObjectURL(blob);\n",
              "      a.download = filename;\n",
              "      div.appendChild(a);\n",
              "      a.click();\n",
              "      div.remove();\n",
              "    }\n",
              "  "
            ],
            "text/plain": [
              "<IPython.core.display.Javascript object>"
            ]
          },
          "metadata": {
            "tags": []
          }
        },
        {
          "output_type": "display_data",
          "data": {
            "application/javascript": [
              "download(\"download_5e7f4811-ac9d-4ac8-b7a3-d3a1a97090e0\", \"flights_edgelist.csv\", 1934605)"
            ],
            "text/plain": [
              "<IPython.core.display.Javascript object>"
            ]
          },
          "metadata": {
            "tags": []
          }
        }
      ]
    },
    {
      "cell_type": "markdown",
      "metadata": {
        "id": "Wvt3PG0wffYr"
      },
      "source": [
        "# DEPRECATED CODE "
      ]
    },
    {
      "cell_type": "code",
      "metadata": {
        "colab": {
          "base_uri": "https://localhost:8080/"
        },
        "id": "uHtnALsHzDHw",
        "outputId": "3813df76-91c0-40b0-ce3b-0b55527cb74c"
      },
      "source": [
        "\n",
        "# Checking how many individual source, destination pairs there are\n",
        "print(edgelist.groupby(['Source', 'Destination']).ngroups)\n"
      ],
      "execution_count": null,
      "outputs": [
        {
          "output_type": "stream",
          "text": [
            "37591\n"
          ],
          "name": "stdout"
        }
      ]
    },
    {
      "cell_type": "code",
      "metadata": {
        "colab": {
          "base_uri": "https://localhost:8080/"
        },
        "id": "o24e7sm85fVZ",
        "outputId": "0a8bb9a0-4dde-41c6-f6f7-32bf5e792449"
      },
      "source": [
        "\n",
        "# MAX FLIGHT\n",
        "## Shape confirms that all airports pairs are retained in this data\n",
        "\n",
        "edgelist.Capacity = pd.to_numeric(edgelist.Capacity)\n",
        "max_flights = edgelist.groupby(['Source', 'Destination']).max().reset_index()\n",
        "\n",
        "# MAX FLIGHT, NO AIRLINE, FOR QUESTION 1\n",
        "max_flights_na = max_flights.drop('Airline', 1)\n",
        "\n",
        "# PRINTING \n",
        "# to see if everything worked...\n",
        "# it did! All airport couples were retained with max capacities and corresponding airlines\n",
        "\n",
        "print(max_flights.head(10))\n",
        "print(max_flights.shape)\n",
        "print(max_flights_na.head(10))\n",
        "print(max_flights_na.shape)"
      ],
      "execution_count": null,
      "outputs": [
        {
          "output_type": "stream",
          "text": [
            "/usr/local/lib/python3.6/dist-packages/pandas/core/generic.py:5168: SettingWithCopyWarning: \n",
            "A value is trying to be set on a copy of a slice from a DataFrame.\n",
            "Try using .loc[row_indexer,col_indexer] = value instead\n",
            "\n",
            "See the caveats in the documentation: https://pandas.pydata.org/pandas-docs/stable/user_guide/indexing.html#returning-a-view-versus-a-copy\n",
            "  self[name] = value\n"
          ],
          "name": "stderr"
        },
        {
          "output_type": "stream",
          "text": [
            "  Source Destination  Capacity Airline\n",
            "0    AAE         ALG     162.0      AH\n",
            "1    AAE         CDG     162.0      AH\n",
            "2    AAE         IST     162.0      AH\n",
            "3    AAE         LYS     162.0      AH\n",
            "4    AAE         MRS     162.0      ZI\n",
            "5    AAE         ORN      74.0      AH\n",
            "6    AAE         ORY     124.0      ZI\n",
            "7    AAL         AAR      34.0      BA\n",
            "8    AAL         AGP     162.0      DY\n",
            "9    AAL         ALC     162.0      DY\n",
            "(37591, 4)\n",
            "  Source Destination  Capacity\n",
            "0    AAE         ALG     162.0\n",
            "1    AAE         CDG     162.0\n",
            "2    AAE         IST     162.0\n",
            "3    AAE         LYS     162.0\n",
            "4    AAE         MRS     162.0\n",
            "5    AAE         ORN      74.0\n",
            "6    AAE         ORY     124.0\n",
            "7    AAL         AAR      34.0\n",
            "8    AAL         AGP     162.0\n",
            "9    AAL         ALC     162.0\n",
            "(37591, 3)\n"
          ],
          "name": "stdout"
        }
      ]
    },
    {
      "cell_type": "code",
      "metadata": {
        "colab": {
          "base_uri": "https://localhost:8080/"
        },
        "id": "ryQqw7qg7xGa",
        "outputId": "2ece8bb0-f867-485a-a055-34176d1c6c18"
      },
      "source": [
        "# SUM FLIGHTS, no airline\n",
        "sum_edgelist = edgelist.drop(columns='Airline')\n",
        "sum_edgelist['Capacity'] = pd.to_numeric(sum_edgelist.Capacity)\n",
        "sum_flights = sum_edgelist.groupby(['Source','Destination']).sum().reset_index()\n",
        "print(sum_flights.head(10))\n",
        "print(sum_flights.shape)\n"
      ],
      "execution_count": null,
      "outputs": [
        {
          "output_type": "stream",
          "text": [
            "  Source Destination  Capacity\n",
            "0    AAE         ALG     346.0\n",
            "1    AAE         CDG     162.0\n",
            "2    AAE         IST     162.0\n",
            "3    AAE         LYS     162.0\n",
            "4    AAE         MRS     286.0\n",
            "5    AAE         ORN      74.0\n",
            "6    AAE         ORY     234.0\n",
            "7    AAL         AAR      34.0\n",
            "8    AAL         AGP     162.0\n",
            "9    AAL         ALC     162.0\n",
            "(37591, 3)\n"
          ],
          "name": "stdout"
        }
      ]
    },
    {
      "cell_type": "code",
      "metadata": {
        "colab": {
          "base_uri": "https://localhost:8080/"
        },
        "id": "keufeKhMIA21",
        "outputId": "4e16c547-1e4c-4fa4-f839-efeae7419b8e"
      },
      "source": [
        "\n",
        "# SUM FLIGHTS, grouped by airline\n",
        "\n",
        "sum_flights_ga = edgelist.groupby(['Source','Destination', 'Airline']).sum().reset_index()\n",
        "print(sum_flights_ga.head(10))\n",
        "print(sum_flights_ga.shape)\n"
      ],
      "execution_count": null,
      "outputs": [
        {
          "output_type": "stream",
          "text": [
            "  Source Destination Airline  Capacity\n",
            "0    AAE         ALG      AH     346.0\n",
            "1    AAE         CDG      AH     162.0\n",
            "2    AAE         IST      AH     162.0\n",
            "3    AAE         LYS      AH     162.0\n",
            "4    AAE         MRS      AH     162.0\n",
            "5    AAE         MRS      ZI     124.0\n",
            "6    AAE         ORN      AH      74.0\n",
            "7    AAE         ORY      AH     110.0\n",
            "8    AAE         ORY      ZI     124.0\n",
            "9    AAL         AAR      BA      34.0\n",
            "(67634, 4)\n"
          ],
          "name": "stdout"
        }
      ]
    },
    {
      "cell_type": "code",
      "metadata": {
        "colab": {
          "base_uri": "https://localhost:8080/",
          "height": 52
        },
        "id": "t0tF9sl4Jg91",
        "outputId": "294d2d46-6502-4cd8-a8fd-9df1c546c14b"
      },
      "source": [
        "# SAVING THESE ALL TO CSVs\n",
        "\n",
        "# Max flights edgelist \n",
        "max_flights_na.to_csv('max_flights_edgelist.csv') \n",
        "files.download('max_flights_edgelist.csv')\n",
        "\n",
        "# Max flights edgelist + airlines\n",
        "max_flights.to_csv('airline_max_flights_edgelist.csv') \n",
        "files.download('airline_max_flights_edgelist.csv')\n",
        "\n",
        "# Sum flights edgelist\n",
        "sum_flights.to_csv('sum_flights_edgelist.csv') \n",
        "files.download('sum_flights_edgelist.csv')\n",
        "\n",
        "# Sum flights edgelist + airline\n",
        "sum_flights_ga.to_csv('airline_sum_flights_edgelist.csv') \n",
        "files.download('airline_sum_flights_edgelist.csv')\n"
      ],
      "execution_count": null,
      "outputs": [
        {
          "output_type": "display_data",
          "data": {
            "application/javascript": [
              "\n",
              "    async function download(id, filename, size) {\n",
              "      if (!google.colab.kernel.accessAllowed) {\n",
              "        return;\n",
              "      }\n",
              "      const div = document.createElement('div');\n",
              "      const label = document.createElement('label');\n",
              "      label.textContent = `Downloading \"${filename}\": `;\n",
              "      div.appendChild(label);\n",
              "      const progress = document.createElement('progress');\n",
              "      progress.max = size;\n",
              "      div.appendChild(progress);\n",
              "      document.body.appendChild(div);\n",
              "\n",
              "      const buffers = [];\n",
              "      let downloaded = 0;\n",
              "\n",
              "      const channel = await google.colab.kernel.comms.open(id);\n",
              "      // Send a message to notify the kernel that we're ready.\n",
              "      channel.send({})\n",
              "\n",
              "      for await (const message of channel.messages) {\n",
              "        // Send a message to notify the kernel that we're ready.\n",
              "        channel.send({})\n",
              "        if (message.buffers) {\n",
              "          for (const buffer of message.buffers) {\n",
              "            buffers.push(buffer);\n",
              "            downloaded += buffer.byteLength;\n",
              "            progress.value = downloaded;\n",
              "          }\n",
              "        }\n",
              "      }\n",
              "      const blob = new Blob(buffers, {type: 'application/binary'});\n",
              "      const a = document.createElement('a');\n",
              "      a.href = window.URL.createObjectURL(blob);\n",
              "      a.download = filename;\n",
              "      div.appendChild(a);\n",
              "      a.click();\n",
              "      div.remove();\n",
              "    }\n",
              "  "
            ],
            "text/plain": [
              "<IPython.core.display.Javascript object>"
            ]
          },
          "metadata": {
            "tags": []
          }
        },
        {
          "output_type": "display_data",
          "data": {
            "application/javascript": [
              "download(\"download_23a219a6-5ba4-4de0-b6ae-8e112a4125b0\", \"max_flights_edgelist.csv\", 730272)"
            ],
            "text/plain": [
              "<IPython.core.display.Javascript object>"
            ]
          },
          "metadata": {
            "tags": []
          }
        },
        {
          "output_type": "display_data",
          "data": {
            "application/javascript": [
              "\n",
              "    async function download(id, filename, size) {\n",
              "      if (!google.colab.kernel.accessAllowed) {\n",
              "        return;\n",
              "      }\n",
              "      const div = document.createElement('div');\n",
              "      const label = document.createElement('label');\n",
              "      label.textContent = `Downloading \"${filename}\": `;\n",
              "      div.appendChild(label);\n",
              "      const progress = document.createElement('progress');\n",
              "      progress.max = size;\n",
              "      div.appendChild(progress);\n",
              "      document.body.appendChild(div);\n",
              "\n",
              "      const buffers = [];\n",
              "      let downloaded = 0;\n",
              "\n",
              "      const channel = await google.colab.kernel.comms.open(id);\n",
              "      // Send a message to notify the kernel that we're ready.\n",
              "      channel.send({})\n",
              "\n",
              "      for await (const message of channel.messages) {\n",
              "        // Send a message to notify the kernel that we're ready.\n",
              "        channel.send({})\n",
              "        if (message.buffers) {\n",
              "          for (const buffer of message.buffers) {\n",
              "            buffers.push(buffer);\n",
              "            downloaded += buffer.byteLength;\n",
              "            progress.value = downloaded;\n",
              "          }\n",
              "        }\n",
              "      }\n",
              "      const blob = new Blob(buffers, {type: 'application/binary'});\n",
              "      const a = document.createElement('a');\n",
              "      a.href = window.URL.createObjectURL(blob);\n",
              "      a.download = filename;\n",
              "      div.appendChild(a);\n",
              "      a.click();\n",
              "      div.remove();\n",
              "    }\n",
              "  "
            ],
            "text/plain": [
              "<IPython.core.display.Javascript object>"
            ]
          },
          "metadata": {
            "tags": []
          }
        },
        {
          "output_type": "display_data",
          "data": {
            "application/javascript": [
              "download(\"download_5458d93d-add5-48e2-828d-43cb2e120fce\", \"airline_max_flights_edgelist.csv\", 843221)"
            ],
            "text/plain": [
              "<IPython.core.display.Javascript object>"
            ]
          },
          "metadata": {
            "tags": []
          }
        },
        {
          "output_type": "display_data",
          "data": {
            "application/javascript": [
              "\n",
              "    async function download(id, filename, size) {\n",
              "      if (!google.colab.kernel.accessAllowed) {\n",
              "        return;\n",
              "      }\n",
              "      const div = document.createElement('div');\n",
              "      const label = document.createElement('label');\n",
              "      label.textContent = `Downloading \"${filename}\": `;\n",
              "      div.appendChild(label);\n",
              "      const progress = document.createElement('progress');\n",
              "      progress.max = size;\n",
              "      div.appendChild(progress);\n",
              "      document.body.appendChild(div);\n",
              "\n",
              "      const buffers = [];\n",
              "      let downloaded = 0;\n",
              "\n",
              "      const channel = await google.colab.kernel.comms.open(id);\n",
              "      // Send a message to notify the kernel that we're ready.\n",
              "      channel.send({})\n",
              "\n",
              "      for await (const message of channel.messages) {\n",
              "        // Send a message to notify the kernel that we're ready.\n",
              "        channel.send({})\n",
              "        if (message.buffers) {\n",
              "          for (const buffer of message.buffers) {\n",
              "            buffers.push(buffer);\n",
              "            downloaded += buffer.byteLength;\n",
              "            progress.value = downloaded;\n",
              "          }\n",
              "        }\n",
              "      }\n",
              "      const blob = new Blob(buffers, {type: 'application/binary'});\n",
              "      const a = document.createElement('a');\n",
              "      a.href = window.URL.createObjectURL(blob);\n",
              "      a.download = filename;\n",
              "      div.appendChild(a);\n",
              "      a.click();\n",
              "      div.remove();\n",
              "    }\n",
              "  "
            ],
            "text/plain": [
              "<IPython.core.display.Javascript object>"
            ]
          },
          "metadata": {
            "tags": []
          }
        },
        {
          "output_type": "display_data",
          "data": {
            "application/javascript": [
              "download(\"download_579c43a4-1621-4c5a-bc59-6df7bd94c4e6\", \"sum_flights_edgelist.csv\", 735691)"
            ],
            "text/plain": [
              "<IPython.core.display.Javascript object>"
            ]
          },
          "metadata": {
            "tags": []
          }
        },
        {
          "output_type": "display_data",
          "data": {
            "application/javascript": [
              "\n",
              "    async function download(id, filename, size) {\n",
              "      if (!google.colab.kernel.accessAllowed) {\n",
              "        return;\n",
              "      }\n",
              "      const div = document.createElement('div');\n",
              "      const label = document.createElement('label');\n",
              "      label.textContent = `Downloading \"${filename}\": `;\n",
              "      div.appendChild(label);\n",
              "      const progress = document.createElement('progress');\n",
              "      progress.max = size;\n",
              "      div.appendChild(progress);\n",
              "      document.body.appendChild(div);\n",
              "\n",
              "      const buffers = [];\n",
              "      let downloaded = 0;\n",
              "\n",
              "      const channel = await google.colab.kernel.comms.open(id);\n",
              "      // Send a message to notify the kernel that we're ready.\n",
              "      channel.send({})\n",
              "\n",
              "      for await (const message of channel.messages) {\n",
              "        // Send a message to notify the kernel that we're ready.\n",
              "        channel.send({})\n",
              "        if (message.buffers) {\n",
              "          for (const buffer of message.buffers) {\n",
              "            buffers.push(buffer);\n",
              "            downloaded += buffer.byteLength;\n",
              "            progress.value = downloaded;\n",
              "          }\n",
              "        }\n",
              "      }\n",
              "      const blob = new Blob(buffers, {type: 'application/binary'});\n",
              "      const a = document.createElement('a');\n",
              "      a.href = window.URL.createObjectURL(blob);\n",
              "      a.download = filename;\n",
              "      div.appendChild(a);\n",
              "      a.click();\n",
              "      div.remove();\n",
              "    }\n",
              "  "
            ],
            "text/plain": [
              "<IPython.core.display.Javascript object>"
            ]
          },
          "metadata": {
            "tags": []
          }
        },
        {
          "output_type": "display_data",
          "data": {
            "application/javascript": [
              "download(\"download_c57a9cdf-7b1f-4957-bc71-03350f7e913b\", \"airline_sum_flights_edgelist.csv\", 1530514)"
            ],
            "text/plain": [
              "<IPython.core.display.Javascript object>"
            ]
          },
          "metadata": {
            "tags": []
          }
        }
      ]
    }
  ]
}